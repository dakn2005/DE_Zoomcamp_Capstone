{
 "cells": [
  {
   "cell_type": "code",
   "execution_count": 1,
   "id": "61ded246",
   "metadata": {},
   "outputs": [],
   "source": [
    "import requests\n",
    "from bs4 import BeautifulSoup\n",
    "import pandas as pd\n",
    "from concurrent.futures import ThreadPoolExecutor\n"
   ]
  },
  {
   "cell_type": "code",
   "execution_count": 2,
   "id": "b527fcd6-0805-4ea8-9790-2e35c3a01f61",
   "metadata": {},
   "outputs": [],
   "source": [
    "def record_page(url):\n",
    "    response = requests.get(url)\n",
    "    soup = BeautifulSoup(response.text, \"html.parser\")\n",
    "\n",
    "    # Find the first table\n",
    "    table = soup.find(\"table\")\n",
    "    \n",
    "    # Extract rows\n",
    "    rows = []\n",
    "    ds = []\n",
    "    for tr in table.find_all(\"tr\"):\n",
    "        cells = [td.text.strip() for td in tr.find_all(\"td\")]\n",
    "        if cells:\n",
    "            rows.append(cells)\n",
    "\n",
    "        ds.append(rows)\n",
    "\n",
    "    scrapped_ds = [dict(rec) for rec in ds]\n",
    "    return scrapped_ds\n",
    "\n",
    "def get_rec(year):\n",
    "    base_url = f\"https://www.planecrashinfo.com/{year}\"\n",
    "    # Fetch the HTML content\n",
    "    url = f\"{base_url}/{year}\"\n",
    "    response = requests.get(f\"{url}.htm\")\n",
    "    # response = requests.get('https://example.com')\n",
    "    soup = BeautifulSoup(response.text, \"html.parser\")\n",
    "\n",
    "    # Find the first table\n",
    "    table = soup.find(\"table\")\n",
    "\n",
    "    if table is None:\n",
    "        return None\n",
    "\n",
    "    # Extract headers\n",
    "    headers = [td.text.strip() for td in table.find_all(\"tr\")[0]]\n",
    "\n",
    "    # Extract rows\n",
    "    rows = []\n",
    "    cnt = 0\n",
    "    for tr in table.find_all(\"tr\")[1:]:  # Skip header row\n",
    "        cells = [td.text.strip() for td in tr.find_all(\"td\")]\n",
    "        if cells:\n",
    "            rows.append(cells)\n",
    "            cnt += 1\n",
    "\n",
    "    # # Convert to DataFrame\n",
    "    # df = pd.DataFrame(rows, columns=headers)\n",
    "\n",
    "    # # Display DataFrame\n",
    "    # df.head()\n",
    "    \n",
    "    urls = []\n",
    "    for i in range(1, cnt+1):\n",
    "        urls.append(f\"{url}-{i}.htm\")\n",
    "    \n",
    "    with ThreadPoolExecutor() as executor:\n",
    "        results = executor.map(record_page, urls)\n",
    "    \n",
    "    print(results)\n",
    "    return results\n",
    "\n"
   ]
  },
  {
   "cell_type": "code",
   "execution_count": null,
   "id": "6fa7def7",
   "metadata": {},
   "outputs": [
    {
     "name": "stdout",
     "output_type": "stream",
     "text": [
      "<generator object Executor.map.<locals>.result_iterator at 0x1159d9b70>\n",
      "1986\n",
      "<generator object Executor.map.<locals>.result_iterator at 0x114fbab60>\n",
      "1987\n"
     ]
    },
    {
     "name": "stderr",
     "output_type": "stream",
     "text": [
      "136.71s - thread._ident is None in _get_related_thread!\n"
     ]
    }
   ],
   "source": [
    "years = range(1986,1990)\n",
    "\n",
    "for yr in years:\n",
    "    res = get_rec(yr)\n",
    "\n",
    "    if res is None:\n",
    "        print(f'failed: {yr}')\n",
    "    else:\n",
    "        print(yr)\n",
    "    \n",
    "    "
   ]
  }
 ],
 "metadata": {
  "kernelspec": {
   "display_name": ".venv",
   "language": "python",
   "name": "python3"
  },
  "language_info": {
   "codemirror_mode": {
    "name": "ipython",
    "version": 3
   },
   "file_extension": ".py",
   "mimetype": "text/x-python",
   "name": "python",
   "nbconvert_exporter": "python",
   "pygments_lexer": "ipython3",
   "version": "3.12.9"
  }
 },
 "nbformat": 4,
 "nbformat_minor": 5
}
